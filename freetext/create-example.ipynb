{
 "cells": [
  {
   "cell_type": "code",
   "execution_count": 1,
   "metadata": {},
   "outputs": [],
   "source": [
    "import requests"
   ]
  },
  {
   "cell_type": "code",
   "execution_count": 2,
   "metadata": {},
   "outputs": [],
   "source": [
    "secret = \"at-36f57671-f35a-4d08-ae70-8bb791ac8cc2\"\n",
    "\n",
    "host = \"localhost:9900\"\n",
    "new_assignment_endpoint = f\"http://{host}/assignments/new\""
   ]
  },
  {
   "cell_type": "code",
   "execution_count": 8,
   "metadata": {},
   "outputs": [],
   "source": [
    "question = \"\"\"\n",
    "How can large language models introduce biases into student evaluation?\n",
    "\"\"\"\n",
    "\n",
    "requirements = [\n",
    "    \"The student should mention training data, language patterns, prejudiced examples, feedback loop, lack of contextual understanding, limited diversity in tranining data, evaluation metrics.\"\n",
    "]\n",
    "\n",
    "payload = {\n",
    "  \"student_prompt\": question,\n",
    "  \"feedback_requirements\": requirements,\n",
    "  \"feedback_instructions\": \"\",\n",
    "  \"fallback_response\": \"\"\n",
    "}"
   ]
  },
  {
   "cell_type": "code",
   "execution_count": 9,
   "metadata": {},
   "outputs": [
    {
     "name": "stdout",
     "output_type": "stream",
     "text": [
      "1393754a-d80f-474d-bff7-b1fec36cdbb7\n"
     ]
    }
   ],
   "source": [
    "post = requests.post(new_assignment_endpoint, json=payload, headers={\"assignment-creation-secret\": secret})\n",
    "print(post.json())"
   ]
  },
  {
   "cell_type": "code",
   "execution_count": null,
   "metadata": {},
   "outputs": [],
   "source": []
  }
 ],
 "metadata": {
  "kernelspec": {
   "display_name": ".venv",
   "language": "python",
   "name": "python3"
  },
  "language_info": {
   "codemirror_mode": {
    "name": "ipython",
    "version": 3
   },
   "file_extension": ".py",
   "mimetype": "text/x-python",
   "name": "python",
   "nbconvert_exporter": "python",
   "pygments_lexer": "ipython3",
   "version": "3.9.16"
  },
  "orig_nbformat": 4
 },
 "nbformat": 4,
 "nbformat_minor": 2
}

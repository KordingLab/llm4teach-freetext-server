{
 "cells": [
  {
   "cell_type": "code",
   "execution_count": 3,
   "metadata": {},
   "outputs": [],
   "source": [
    "def print_feedbacks(s: str):\n",
    "    import requests\n",
    "\n",
    "    url = \"http://127.0.0.1:9900/feedback\"\n",
    "\n",
    "    req = {\n",
    "        \"assignment_id\": \"foo\",\n",
    "        \"submission_string\": s\n",
    "    }\n",
    "\n",
    "    res = requests.post(url, json=req)\n",
    "\n",
    "    # Print the string on line one; on each subsequent line,\n",
    "    # print underlines under the location (start, stop) of the feedback\n",
    "    # and then the feedback string.\n",
    "    print(s)\n",
    "    for feedback in res.json():\n",
    "        start, stop = feedback[\"location\"]\n",
    "        # bar, and then end-aligned with the feedback string.\n",
    "\n",
    "        print(\" \" * start + \"—\" * (stop - start) + \" \" * (len(s) - stop + 1), end=\"\")\n",
    "        print(feedback[\"feedback_string\"])\n",
    "\n",
    "    print()\n"
   ]
  },
  {
   "cell_type": "code",
   "execution_count": 7,
   "metadata": {},
   "outputs": [
    {
     "name": "stdout",
     "output_type": "stream",
     "text": [
      "Neurons are cells that transmit information to other nerve, muscle, or gland cells. They use synapses.\n",
      "—————————————————————————————————————————————————————————————————————————————————————————————————————— This is a dummy feedback provider.\n",
      "—————————————————————————————————————————————————————————————————————————————————————————————————————— * The author did not mention the role of neurotransmitters.\n",
      "* The author did not explain what an action potential is.\n",
      "\n",
      "To remedy the first issue, the author should include a sentence or two explaining the role of neurotransmitters in the transmission of information between neurons. To remedy the second issue, the author should include a sentence or two explaining what an action potential is.\n",
      "\n",
      "I hope this helps!\n",
      "\n"
     ]
    }
   ],
   "source": [
    "print_feedbacks(\"Neurons are cells that transmit information to other nerve, muscle, or gland cells. They use synapses.\")"
   ]
  },
  {
   "cell_type": "code",
   "execution_count": null,
   "metadata": {},
   "outputs": [],
   "source": []
  }
 ],
 "metadata": {
  "kernelspec": {
   "display_name": ".venv",
   "language": "python",
   "name": "python3"
  },
  "language_info": {
   "codemirror_mode": {
    "name": "ipython",
    "version": 3
   },
   "file_extension": ".py",
   "mimetype": "text/x-python",
   "name": "python",
   "nbconvert_exporter": "python",
   "pygments_lexer": "ipython3",
   "version": "3.10.0"
  },
  "orig_nbformat": 4
 },
 "nbformat": 4,
 "nbformat_minor": 2
}
